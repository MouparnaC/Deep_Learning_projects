{
  "nbformat": 4,
  "nbformat_minor": 0,
  "metadata": {
    "colab": {
      "provenance": []
    },
    "kernelspec": {
      "name": "python3",
      "display_name": "Python 3"
    },
    "language_info": {
      "name": "python"
    },
    "accelerator": "GPU"
  },
  "cells": [
    {
      "cell_type": "markdown",
      "source": [
        "# The Basics: Training my first Neural Network\n",
        "\n",
        "1. We will use tensorflow\n",
        "2. Keras is integrated into tf\n",
        "3. Train with the given data\n",
        "4. Improve the model with added data\n",
        "\n",
        "\n"
      ],
      "metadata": {
        "id": "55MaEybfu3Ta"
      }
    },
    {
      "cell_type": "markdown",
      "source": [
        "The problem we want to solve is to convert from Celsius to Farenheit, where the approximate formula  is:\n",
        "\n",
        "                         f=c*1.8+32 \n",
        "\n",
        "of course it would be simple enough to create a conventional Python function that directly performs the calculation but that wouldn't be machine learning.\n",
        "\n",
        "Instead we will give Tensorflow some sample celsius values(0,8,15,22,38) and their corresponding Farenheit values(32,45,59,72,100). Then we will train a model that figures out the above formula through the training process"
      ],
      "metadata": {
        "id": "yccpFnzzv1qz"
      }
    },
    {
      "cell_type": "markdown",
      "source": [
        "# Import dependencies\n"
      ],
      "metadata": {
        "id": "D42673CTxYm5"
      }
    },
    {
      "cell_type": "code",
      "execution_count": 1,
      "metadata": {
        "id": "Kmzk1iF2rs46"
      },
      "outputs": [],
      "source": [
        "import tensorflow as tf"
      ]
    },
    {
      "cell_type": "code",
      "source": [
        "tf.__version__"
      ],
      "metadata": {
        "colab": {
          "base_uri": "https://localhost:8080/",
          "height": 35
        },
        "id": "fOHxa8D2xfix",
        "outputId": "43ce710a-7b59-408f-e3c9-5e0e75ada4a7"
      },
      "execution_count": 2,
      "outputs": [
        {
          "output_type": "execute_result",
          "data": {
            "text/plain": [
              "'2.9.2'"
            ],
            "application/vnd.google.colaboratory.intrinsic+json": {
              "type": "string"
            }
          },
          "metadata": {},
          "execution_count": 2
        }
      ]
    },
    {
      "cell_type": "code",
      "source": [
        "import numpy as np\n",
        "import logging\n",
        "logger=tf.get_logger()\n",
        "logger.setLevel(logging.ERROR)"
      ],
      "metadata": {
        "id": "9FSaJr8LyLag"
      },
      "execution_count": 3,
      "outputs": []
    },
    {
      "cell_type": "markdown",
      "source": [
        "## Setting up Training Data\n",
        "\n",
        "As we saw before, supervised Machine Learning is all about figuring out an algorithm given a set of inputs and outputs.\n",
        "Since the task in this Codelab is to create a model that can give the temperature in Farenheit when given the degrees in Celsius, we create two lists celsius_q and farenheit_a that we can use to train our model."
      ],
      "metadata": {
        "id": "eEtAPPZrz9ci"
      }
    },
    {
      "cell_type": "code",
      "source": [
        "celsius_q = np.array([-40,-10,0,8,15,22,38,55],dtype=float)\n",
        "fahrenheit_a= np.array([-40,14,32,46,59,72,100,131],dtype=float)\n",
        "\n",
        "for i,c in enumerate(celsius_q):\n",
        "  print(\"{} degree Celsius= {} degrees Fahrenheit\".format(c,fahrenheit_a[i]))"
      ],
      "metadata": {
        "colab": {
          "base_uri": "https://localhost:8080/"
        },
        "id": "cfp_9CrS2Ube",
        "outputId": "b913cf18-9eb1-4997-cb0b-c651e7ab2912"
      },
      "execution_count": 4,
      "outputs": [
        {
          "output_type": "stream",
          "name": "stdout",
          "text": [
            "-40.0 degree Celsius= -40.0 degrees Fahrenheit\n",
            "-10.0 degree Celsius= 14.0 degrees Fahrenheit\n",
            "0.0 degree Celsius= 32.0 degrees Fahrenheit\n",
            "8.0 degree Celsius= 46.0 degrees Fahrenheit\n",
            "15.0 degree Celsius= 59.0 degrees Fahrenheit\n",
            "22.0 degree Celsius= 72.0 degrees Fahrenheit\n",
            "38.0 degree Celsius= 100.0 degrees Fahrenheit\n",
            "55.0 degree Celsius= 131.0 degrees Fahrenheit\n"
          ]
        }
      ]
    },
    {
      "cell_type": "markdown",
      "source": [
        "**Machine Language Terminology** \\\n",
        "**Feature**- The input(s) to our model. In this case, a single value-the degrees in Celsius.\\\n",
        " **Labels**- The output our model predicts.In this case a single value- the degrees in Fahrenheit.\n",
        "\n",
        " Example- a pair of inputs/outputs used during training.In our case a pair of values from celsius_q and fahrenheit_a at a specific index, such as (22,72)."
      ],
      "metadata": {
        "id": "pEjOl9Lo329E"
      }
    },
    {
      "cell_type": "markdown",
      "source": [
        "## Create the model\n",
        "\n",
        "Next we create the model. We will use the simplest possible model, a **Dense Network**. Since the problem is straightforward, this network will require only a single layer,with a single neuron\n",
        "\n",
        "### Build a layer\n",
        "\n",
        "We'll call the layer 'l0' and create it by instantiating 'tf.keras.layers.Dense' with the following configuration.\n",
        "\n",
        "\n",
        "\n",
        "*   input_shape=[1]- This specifies that the input to this layer is a single value. That is , the shape is a one-dimensional array with one member.Since this is the first(and only) layer, that input shape is the input shape of the entire model. The single value is a floating point number, representing degree Celsius.\n",
        "\n",
        "\n",
        "\n",
        "*   units=1- This specifies the number of neurons in the layer.The number of neurons defines how many internal variables the layer has to try to learn how to solve the problem.Since this is the final layer, it is also the size of the model's output- a single float value representing degrees Fahrenheit.(In a multi layered network, the sizeand shape of the layer would need to match the 'input_shape' of the next layer.)\n",
        "\n",
        "\n",
        "\n"
      ],
      "metadata": {
        "id": "0zP2uSxo5KR6"
      }
    },
    {
      "cell_type": "code",
      "source": [
        "l0=tf.keras.layers.Dense(units=1,input_shape=[1])"
      ],
      "metadata": {
        "id": "4WRE-4H_3dO0"
      },
      "execution_count": 5,
      "outputs": []
    },
    {
      "cell_type": "markdown",
      "source": [
        "## Assemble layers into the model\n",
        "\n",
        "Once the layers are defined , they need to be assembled into a model. the Sequential model definition takes a list of layers as an argument, specifying the calculation order from the input to the output.\n",
        "\n",
        "The model has  just a single layer, ID.\n"
      ],
      "metadata": {
        "id": "rqnu-1x888bT"
      }
    },
    {
      "cell_type": "code",
      "source": [
        "model=tf.keras.Sequential([l0]) #here we have just a single layer in our model"
      ],
      "metadata": {
        "id": "Ffn2HXkw3EJm"
      },
      "execution_count": 6,
      "outputs": []
    },
    {
      "cell_type": "markdown",
      "source": [
        "## Compile the model with loss and optimizer functions\n",
        "\n",
        "Before training, the model has to be compiled. When compiled for training, the model is given:\n",
        "\n",
        "\n",
        "\n",
        "*   Loss function- A way of measuring how far off predictions are from the desired outcome( the measured difference is  called a \"loss\")\n",
        "\n",
        "*   Optimiser Function- A way of adjusting internal values in order to reduce the loss.\n",
        "\n"
      ],
      "metadata": {
        "id": "myIsJ8Zt-Wyh"
      }
    },
    {
      "cell_type": "code",
      "source": [
        "model.compile(loss='mean_squared_error',optimizer=tf.keras.optimizers.Adam(0.1))"
      ],
      "metadata": {
        "id": "snyo0AqA9qjp"
      },
      "execution_count": 7,
      "outputs": []
    },
    {
      "cell_type": "markdown",
      "source": [
        "These are used during training to first calculate the loss at each point and then improve it. In fact , the act of calculating the current loss of a model and then improving it is precisely what the training is.\n",
        "\n",
        "During training the optimizer function is used to calculate the adjustments to the model's internal variables. The goal is to adjust the internal variables until the model(which is a math function) mirrors the actual equation for converting Celsius to Fahrenheit.\n",
        "\n",
        "TensorFlow  uses numerical analysis to perform this tuning and all this complexity is hidden.\n",
        "\n",
        "The loss function(mean squared error) and the optimizer(Adam) used here are standard for simple models like this one, but many others are available.\n",
        "\n",
        "One of the most important part of the model is the learning  rate , it is the step size taken when adjusting values in the model. if the value is too small,it will take too many iterations to train the model. While if it's too large the accuracy goes down. Finding a good value for it requires a lot of trial and error but the default for it is 0.001 and 0.1"
      ],
      "metadata": {
        "id": "Tby4j_o9JSM-"
      }
    },
    {
      "cell_type": "markdown",
      "source": [
        "## Train The Model\n",
        "\n",
        "We train the model by calling the .fit method.\n",
        "\n",
        "During training, the model takes in Celsius values, performs a calculation using the current internal variables called **\"weights\"** and output values which are meant to be the Fahrenheit equivalent. Since intially the weights are set randomly so the output tends not to be close to the actual value. The difference between the output and the actual value is given by the loss function and the optimizer function directs how the weights need to be adjusted.\n",
        "\n",
        "This cycle of calculate,compare, adjust is controlled by the fit method. The first argument is the inputs, the second argument is the desired outputs.The **epochs** arguement specifies how many times this cycle should be run and the verbose argument controls how much output the method produces."
      ],
      "metadata": {
        "id": "OXC1r9aEAq4X"
      }
    },
    {
      "cell_type": "code",
      "source": [
        "history=model.fit(celsius_q,fahrenheit_a, epochs=1000,verbose=False)\n",
        "print(\"Finished training the model\")"
      ],
      "metadata": {
        "colab": {
          "base_uri": "https://localhost:8080/"
        },
        "id": "V2WBqsTa_ra8",
        "outputId": "f6bccded-28a4-43d5-f46a-ea1e8e83ca5d"
      },
      "execution_count": 8,
      "outputs": [
        {
          "output_type": "stream",
          "name": "stdout",
          "text": [
            "Finished training the model\n"
          ]
        }
      ]
    },
    {
      "cell_type": "markdown",
      "source": [
        "## Display the training statistics\n",
        "\n",
        "the fit method returns a history object. We can use this object to plot how the loss of our model goes down after each training epoch. A high loss means that the fahrenheit degrees that the model predicts is far from the corresponding value in farenheit_a.\n",
        "\n",
        "\n",
        "Now we will use **Matplotlib** to visualize this."
      ],
      "metadata": {
        "id": "E4HXCmvSBjlX"
      }
    },
    {
      "cell_type": "code",
      "source": [
        "import matplotlib.pyplot as plt\n",
        "plt.xlabel('Epoch Number')\n",
        "plt.ylabel('Loss Magnitude')\n",
        "plt.plot(history.history['loss'])"
      ],
      "metadata": {
        "colab": {
          "base_uri": "https://localhost:8080/",
          "height": 296
        },
        "id": "aq11Z7uQBDPM",
        "outputId": "d2960552-5c85-4f50-f4d0-af499700efe5"
      },
      "execution_count": 9,
      "outputs": [
        {
          "output_type": "execute_result",
          "data": {
            "text/plain": [
              "[<matplotlib.lines.Line2D at 0x7f94a00bc650>]"
            ]
          },
          "metadata": {},
          "execution_count": 9
        },
        {
          "output_type": "display_data",
          "data": {
            "text/plain": [
              "<Figure size 432x288 with 1 Axes>"
            ],
            "image/png": "[encoded data removed]"
          },
          "metadata": {
            "needs_background": "light"
          }
        }
      ]
    },
    {
      "cell_type": "markdown",
      "source": [
        "We can see from the above graph that our model improves very quickly at first and then has a steady, slow improvement until it is very near perfect towards the end."
      ],
      "metadata": {
        "id": "TUO_kqA0QxWk"
      }
    },
    {
      "cell_type": "code",
      "source": [
        "print(model.predict([100.0]))"
      ],
      "metadata": {
        "colab": {
          "base_uri": "https://localhost:8080/"
        },
        "id": "lzmINIlsCCwj",
        "outputId": "3e0e5d8e-6d49-4531-fddc-b03f98833415"
      },
      "execution_count": 10,
      "outputs": [
        {
          "output_type": "stream",
          "name": "stdout",
          "text": [
            "1/1 [==============================] - 0s 97ms/step\n",
            "[[211.8865]]\n"
          ]
        }
      ]
    },
    {
      "cell_type": "markdown",
      "source": [
        "Now we use the .predict method to predict the fahrenheit value for  a previously unknown Celsius degree. \n",
        "\n",
        "We try to predict the Fahrenheit value for 100 degree Celsius.\n",
        "\n",
        "\n"
      ],
      "metadata": {
        "id": "KYODmf4QRIp3"
      }
    },
    {
      "cell_type": "markdown",
      "source": [
        "### To review\n",
        "\n",
        "\n",
        "\n",
        "*   We  created a model with a Dense Layer\n",
        "\n",
        "*   we trained it with 3500 examples(i.e 7 pairs 500 epochs initially ) \n",
        "\n",
        "our model tuned the variables(weights) in the Dense layer until it was able to return the correct Fahrenheit value for any Celsius value.\n",
        "\n"
      ],
      "metadata": {
        "id": "KulWc1kqSCyV"
      }
    },
    {
      "cell_type": "markdown",
      "source": [
        "## Looking at the layer weights"
      ],
      "metadata": {
        "id": "Kl2WXgCXexCO"
      }
    },
    {
      "cell_type": "code",
      "source": [
        "print(\"these are the layer variables: {}\".format(l0.get_weights()))"
      ],
      "metadata": {
        "colab": {
          "base_uri": "https://localhost:8080/"
        },
        "id": "THLGyA2RZ-Ed",
        "outputId": "e1325c03-2702-4fd9-c88e-c9857ffef01b"
      },
      "execution_count": 11,
      "outputs": [
        {
          "output_type": "stream",
          "name": "stdout",
          "text": [
            "these are the layer variables: [array([[1.7997619]], dtype=float32), array([31.910315], dtype=float32)]\n"
          ]
        }
      ]
    },
    {
      "cell_type": "markdown",
      "source": [
        "The first variable is close to 1.8 and the second to 32.These values are the actual variables in the real conversion formula."
      ],
      "metadata": {
        "id": "YYVGJoNeTI1b"
      }
    },
    {
      "cell_type": "markdown",
      "source": [
        "Here we dont need multiple layers but we create more Dense Layers with different units, which therefore also as more variables."
      ],
      "metadata": {
        "id": "vf6OdbHwTm55"
      }
    },
    {
      "cell_type": "code",
      "source": [
        "l0 = tf.keras.layers.Dense(units=4, input_shape=[1])\n",
        "l1 = tf.keras.layers.Dense(units=4)\n",
        "l2 = tf.keras.layers.Dense(units=1)\n",
        "model = tf.keras.Sequential([l0, l1, l2])\n",
        "model.compile(loss='mean_squared_error', optimizer=tf.keras.optimizers.Adam(0.1))\n",
        "model.fit(celsius_q, fahrenheit_a, epochs=500, verbose=False)\n",
        "print(\"Finished training the model\")\n",
        "print(model.predict([100.0]))\n",
        "print(\"Model predicts that 100 degrees Celsius is: {} degrees Fahrenheit\".format(model.predict([100.0])))\n",
        "print(\"These are the l0 variables: {}\".format(l0.get_weights()))\n",
        "print(\"These are the l1 variables: {}\".format(l1.get_weights()))\n",
        "print(\"These are the l2 variables: {}\".format(l2.get_weights()))"
      ],
      "metadata": {
        "id": "TxJ3gucUfJWw",
        "colab": {
          "base_uri": "https://localhost:8080/"
        },
        "outputId": "0cc40505-f0d2-4527-a47c-935d3ff2763a"
      },
      "execution_count": 12,
      "outputs": [
        {
          "output_type": "stream",
          "name": "stdout",
          "text": [
            "Finished training the model\n",
            "1/1 [==============================] - 0s 50ms/step\n",
            "[[211.87254]]\n",
            "1/1 [==============================] - 0s 24ms/step\n",
            "Model predicts that 100 degrees Celsius is: [[211.87254]] degrees Fahrenheit\n",
            "These are the l0 variables: [array([[ 0.6580303 , -0.6431936 ,  0.35695833,  0.33220813]],\n",
            "      dtype=float32), array([ 4.183515 , -3.9064212,  4.0443506, -2.6835759], dtype=float32)]\n",
            "These are the l1 variables: [array([[ 0.3370801 ,  0.76391935,  0.9831903 , -0.2527117 ],\n",
            "       [-0.8024738 , -0.635539  ,  0.43857014,  0.07775956],\n",
            "       [-0.54118454,  0.9443654 , -0.27137086, -0.08098935],\n",
            "       [-1.2077959 , -0.23605758, -1.2299033 ,  0.9682022 ]],\n",
            "      dtype=float32), array([ 3.644079 ,  3.6669528, -2.0406435, -2.2460046], dtype=float32)]\n",
            "These are the l2 variables: [array([[ 0.5580039 ],\n",
            "       [ 1.4936848 ],\n",
            "       [-0.02271019],\n",
            "       [-0.41829282]], dtype=float32), array([3.517989], dtype=float32)]\n"
          ]
        }
      ]
    },
    {
      "cell_type": "code",
      "source": [],
      "metadata": {
        "id": "H5YX5yjJETlZ"
      },
      "execution_count": 12,
      "outputs": []
    }
  ]
}