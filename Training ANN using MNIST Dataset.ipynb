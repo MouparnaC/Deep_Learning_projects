{
 "cells": [
  {
   "cell_type": "markdown",
   "metadata": {
    "id": "4IbgdySIUdEL"
   },
   "source": [
    "Our goal is to construct and train an ANN on thousands of images of handwritten digits so that it may successfully identify others when presented. The data that will be incorporated is the MNIST database which contains 60,000 images for training and 10,000 test images. We will use the Keras Python API with Tensorflow as the backbend."
   ]
  },
  {
   "cell_type": "code",
   "execution_count": 1,
   "metadata": {
    "id": "BUzGIBcGDT_I"
   },
   "outputs": [],
   "source": [
    "%matplotlib inline"
   ]
  },
  {
   "cell_type": "markdown",
   "metadata": {
    "id": "KD7mO_XIcUrm"
   },
   "source": [
    "Prerequisite"
   ]
  },
  {
   "cell_type": "code",
   "execution_count": 2,
   "metadata": {
    "id": "p3g3clXsEMnc"
   },
   "outputs": [],
   "source": [
    "import numpy as np                                         #advanced math library\n",
    "import matplotlib.pyplot as plt                            #MATLAB like plotting routine\n",
    "import random                                              #For generating random numbers\n",
    "%matplotlib inline\n",
    "\n",
    "from keras.datasets import  mnist\n",
    "from keras.models import Sequential\n",
    "\n",
    "from keras.layers.core import Dense, Dropout, activation\n",
    "from keras.utils import np_utils"
   ]
  },
  {
   "cell_type": "markdown",
   "metadata": {
    "id": "v6TTy8jXH97G"
   },
   "source": [
    "Loading Training Data"
   ]
  },
  {
   "cell_type": "code",
   "execution_count": 3,
   "metadata": {
    "colab": {
     "base_uri": "https://localhost:8080/"
    },
    "id": "u2osiVxEFNtz",
    "outputId": "62c0d91d-c284-449d-d693-5494d967b7d1"
   },
   "outputs": [
    {
     "name": "stdout",
     "output_type": "stream",
     "text": [
      "Downloading data from https://storage.googleapis.com/tensorflow/tf-keras-datasets/mnist.npz\n",
      "11490434/11490434 [==============================] - 0s 0us/step\n",
      "X_train shape (60000, 28, 28)\n",
      "y_train shape (60000,)\n",
      "X_test shape (10000, 28, 28)\n",
      "y_test shape (10000,)\n"
     ]
    }
   ],
   "source": [
    "#The MNIST data is split between 60,000 images (28 X 28 pixel)\n",
    "#training images and 10,000 (28 X 28 pixel) images\n",
    "(X_train, y_train), (X_test, y_test) = mnist.load_data()\n",
    "\n",
    "print(\"X_train shape\", X_train.shape)\n",
    "print(\"y_train shape\", y_train.shape)\n",
    "print(\"X_test shape\", X_test.shape)\n",
    "print(\"y_test shape\", y_test.shape)\n"
   ]
  },
  {
   "cell_type": "markdown",
   "metadata": {
    "id": "-DMvLWcDJS1B"
   },
   "source": [
    "Using matplotlib , we can plot some sample images from the training set directly into this notebook"
   ]
  },
  {
   "cell_type": "code",
   "execution_count": 4,
   "metadata": {
    "colab": {
     "base_uri": "https://localhost:8080/",
     "height": 657
    },
    "id": "byrPGZ6LIWje",
    "outputId": "bee3c3d3-33f7-4c95-d4e5-c59728ba59f0"
   },
   "outputs": [
    {
     "data": {
      "image/png": "[encoded data removed]",
      "text/plain": [
       "<Figure size 648x648 with 9 Axes>"
      ]
     },
     "metadata": {
      "needs_background": "light"
     },
     "output_type": "display_data"
    }
   ],
   "source": [
    "plt.rcParams['figure.figsize'] = (9,9)\n",
    "\n",
    "for i in range(9):\n",
    "  plt.subplot(3,3,i+1)\n",
    "  num = random.randint(0, len(X_train))\n",
    "  plt.imshow(X_train[num], cmap='gray', interpolation='none')\n",
    "  plt.title(\"class {}\".format(y_train[num]))\n",
    "\n",
    "\n",
    "plt.tight_layout()"
   ]
  },
  {
   "cell_type": "markdown",
   "metadata": {
    "id": "jSqSAZWeLukG"
   },
   "source": [
    "let's examine a single digit a little closer, and print out the array representing the last digit"
   ]
  },
  {
   "cell_type": "code",
   "execution_count": 5,
   "metadata": {
    "colab": {
     "base_uri": "https://localhost:8080/"
    },
    "id": "-Vfa16JXKSc9",
    "outputId": "eab8059a-a584-47be-f174-b934d884b4f9"
   },
   "outputs": [
    {
     "name": "stdout",
     "output_type": "stream",
     "text": [
      "0  0  0    0    0    0    0    0    0    0    0    0    0    0    0    0    0    0    0    0    0    0    0  0  0  0  0  0  \n",
      "0  0  0    0    0    0    0    0    0    0    0    0    0    0    0    0    0    0    0    0    0    0    0  0  0  0  0  0  \n",
      "0  0  0    0    0    0    0    0    0    0    0    0    0    0    0    0    0    0    0    0    0    0    0  0  0  0  0  0  \n",
      "0  0  0    0    0    0    0    0    0    0    0    0    0    0    0    0    0    0    0    0    0    0    0  0  0  0  0  0  \n",
      "0  0  0    0    0    0    0    0    0    0    0    0   29  144  143  235  253  253  253  152  143   37    0  0  0  0  0  0  \n",
      "0  0  0    0    0    0    0    0    0    0    0   21  229  253  252  252  252  252  252  252  252  196   52  0  0  0  0  0  \n",
      "0  0  0    0    0    0    0    0    0    0    0   78  252  253  252  252  252  252  252  252  252  252  185  0  0  0  0  0  \n",
      "0  0  0    0    0    0    0    0    0    0    0   71  230  217  121   29   10   10   10   63  143  252  252  0  0  0  0  0  \n",
      "0  0  0    0    0    0    0    0    0    0    0    0    0    0    0    0    0    0    0    0   69  252  228  0  0  0  0  0  \n",
      "0  0  0    0    0    0    0    0    0    0    0    0    0    0    0    0    0    0    0   43  188  252  190  0  0  0  0  0  \n",
      "0  0  0    0    0    0    0    0    0    0    0    0    0    0    0    0    0    0    9  175  252  252   90  0  0  0  0  0  \n",
      "0  0  0    0    0    0    0    0    0    0    0    0    0    6   45   45   45  117  231  252  245  127   13  0  0  0  0  0  \n",
      "0  0  0    0    0    0    0    0    0    0    0   24  126  197  252  252  252  252  252  249  144    0    0  0  0  0  0  0  \n",
      "0  0  0    0    0    0    0    0    0    0    0  126  252  253  252  252  252  252  252  246   43    0    0  0  0  0  0  0  \n",
      "0  0  0    0    0    0    0    0    0    0    0   68  249  255  253  253  250  220  220  251  215    9    0  0  0  0  0  0  \n",
      "0  0  0    0    0    0    0    0    0    0    0    0   67  125   77   77   70    0    0  202  252   95    0  0  0  0  0  0  \n",
      "0  0  0    0    0    0    0    0    0    0    0    0    0    0    0    0    0    0    0  169  252  128    0  0  0  0  0  0  \n",
      "0  0  0    0    0    0    0    0    0    0    0    0    0    0    0    0    0    5   61  238  239   64    0  0  0  0  0  0  \n",
      "0  0  0    0   39   56   27    0    0    0    0    0    0    0    0    0   29   75  229  252  146    0    0  0  0  0  0  0  \n",
      "0  0  0   27  236  252  121    0    0    0    0    0    0    0    0   35  174  252  252  248   64    0    0  0  0  0  0  0  \n",
      "0  0  0  139  252  252  232  122  122   21   12   45   74  136  231  240  252  252  244   87    0    0    0  0  0  0  0  0  \n",
      "0  0  0  253  252  252  252  252  252  252  252  252  252  253  252  252  252  223   45    0    0    0    0  0  0  0  0  0  \n",
      "0  0  0  220  252  252  252  252  252  252  252  252  252  253  252  222  165   23    0    0    0    0    0  0  0  0  0  0  \n",
      "0  0  0   19   61  142  142  214  252  252  252  252  252  143  114   20    0    0    0    0    0    0    0  0  0  0  0  0  \n",
      "0  0  0    0    0    0    0    0    0    0    0    0    0    0    0    0    0    0    0    0    0    0    0  0  0  0  0  0  \n",
      "0  0  0    0    0    0    0    0    0    0    0    0    0    0    0    0    0    0    0    0    0    0    0  0  0  0  0  0  \n",
      "0  0  0    0    0    0    0    0    0    0    0    0    0    0    0    0    0    0    0    0    0    0    0  0  0  0  0  0  \n",
      "0  0  0    0    0    0    0    0    0    0    0    0    0    0    0    0    0    0    0    0    0    0    0  0  0  0  0  0  \n"
     ]
    }
   ],
   "source": [
    "# just a little function for pretty printing a matrix\n",
    "def matprint(mat, fmt=\"g\"):\n",
    "    col_maxes = [max([len((\"{:\"+fmt+\"}\").format(x)) for x in col]) for col in mat.T]\n",
    "    for x in mat:\n",
    "        for i, y in enumerate(x):\n",
    "            print((\"{:\"+str(col_maxes[i])+fmt+\"}\").format(y), end=\"  \")\n",
    "        print(\"\")\n",
    "# now print!        \n",
    "matprint(X_train[num])"
   ]
  },
  {
   "cell_type": "markdown",
   "metadata": {
    "id": "AKpcu73RL2ov"
   },
   "source": [
    "Normalise the data Flatening\n",
    "\n",
    "Formatting the input data layer instead of a 28 X 28 matrix, we build our network to accept a 784-length vector.\n",
    "\n",
    "Each image needs to be then reshaped (or flattened) into a vector. we will also normalize the inputs to be in the range[0-1] rather than [0-255].we do normalization so that any additional dimensions are of the same scale."
   ]
  },
  {
   "cell_type": "code",
   "execution_count": 6,
   "metadata": {
    "id": "-iLM3ICwL18w"
   },
   "outputs": [],
   "source": [
    "X_train = X_train.reshape(60000, 784)    #reshape 60,000 28 X 28 matrices\n",
    "X_test = X_test.reshape(10000, 784)      #reshape 10,000 28 X 28 matrices\n",
    "X_train = X_train.astype('float32')      #change integers to 32-bit floating point\n",
    "X_test = X_test.astype('float32')       \n",
    "\n",
    "X_train /= 255                            #normalize each value for each pixel\n",
    "X_test /= 255"
   ]
  },
  {
   "cell_type": "code",
   "execution_count": 7,
   "metadata": {
    "colab": {
     "base_uri": "https://localhost:8080/"
    },
    "id": "cOx9sB7wLvj5",
    "outputId": "0fcd02f0-5fea-4925-d815-a461ae831236"
   },
   "outputs": [
    {
     "name": "stdout",
     "output_type": "stream",
     "text": [
      "Training matrix shape (60000, 784)\n",
      "Testing matrix shape (10000, 784)\n"
     ]
    }
   ],
   "source": [
    "print(\"Training matrix shape\", X_train.shape)\n",
    "print(\"Testing matrix shape\", X_test.shape)"
   ]
  },
  {
   "cell_type": "markdown",
   "metadata": {
    "id": "XRDiekgsaoXy"
   },
   "source": [
    "We need to encoding for labels"
   ]
  },
  {
   "cell_type": "code",
   "execution_count": 8,
   "metadata": {
    "id": "SQBt0xWgPPi9"
   },
   "outputs": [],
   "source": [
    "nb_classes = 10  # number of unique digits\n",
    "\n",
    "Y_train = np_utils.to_categorical(y_train, nb_classes)\n",
    "Y_test = np_utils.to_categorical(y_test, nb_classes)"
   ]
  },
  {
   "cell_type": "markdown",
   "metadata": {
    "id": "xZPb0T9OQRal"
   },
   "source": [
    "Building a 3 layer fully connected neural network(FCN)"
   ]
  },
  {
   "cell_type": "code",
   "execution_count": 9,
   "metadata": {
    "id": "0GMPbZDyQNEU"
   },
   "outputs": [],
   "source": [
    "from keras.engine import sequential\n",
    "# The Sequential model is a linear stack of layers and is very common\n",
    "\n",
    "model = Sequential()"
   ]
  },
  {
   "cell_type": "code",
   "execution_count": 10,
   "metadata": {
    "id": "GqXugoibQoZg"
   },
   "outputs": [],
   "source": [
    "# The first hidden layer is a set of 512 nodes(artificial neurons)\n",
    "# Each node will recieve an element from each input vector and apply some weight and bias to it\n",
    "\n",
    "model.add(Dense(512, input_shape=(784,)))    #(784, ) represents a 784 length vector! "
   ]
  },
  {
   "cell_type": "code",
   "execution_count": 11,
   "metadata": {
    "id": "BgVwSs-kRn3k"
   },
   "outputs": [],
   "source": [
    "from keras.layers import Activation\n",
    "# An activation is a non-linear function applied to the output of the layer above.\n",
    "# It checks the new value of the node, and decides whether that artifical neuron has fired.\n",
    "# The RELU converts all negative inputs to nodes in the next layer to be zero.\n",
    "# Those inputs are then not considered to be fired.\n",
    "# Positive values of a node are unchanged. \n",
    "\n",
    "model.add(Activation('relu'))"
   ]
  },
  {
   "cell_type": "code",
   "execution_count": 13,
   "metadata": {
    "id": "WLn4hAfKRzdW"
   },
   "outputs": [],
   "source": [
    "# Dropout zeros a selection of random outputs.\n",
    "# Dropout helps protect the model from memorizing or overfitting the training data.\n",
    "\n",
    "model.add(Dropout(0.2))    # Normal dropout range be 0.1 to 0.5"
   ]
  },
  {
   "cell_type": "code",
   "execution_count": 12,
   "metadata": {
    "id": "mZ-nYDXoS3nK"
   },
   "outputs": [],
   "source": [
    "# The second hidden layer appears identical to our first layer.\n",
    "# However instead of each of the 512-node recieving 784-inputs from the input image data, they recieve 512 inputs from the output of the first 512-node layer.\n",
    "\n",
    "model.add(Dense(512))\n",
    "model.add(Activation('relu'))\n",
    "model.add(Dropout(0.2))"
   ]
  },
  {
   "cell_type": "code",
   "execution_count": 14,
   "metadata": {
    "id": "E4SZBlhnUL5R"
   },
   "outputs": [],
   "source": [
    "# The final layer of a FCN should be equal to the number of desired classes(10 in this case)\n",
    "\n",
    "model.add(Dense(10))"
   ]
  },
  {
   "cell_type": "code",
   "execution_count": 15,
   "metadata": {
    "id": "kgZxLMlcUb6M"
   },
   "outputs": [],
   "source": [
    "# The softmax activation represents a probability dist. over k different possible outcomes.\n",
    "# Its values are all non-negative and sum to 1.\n",
    "\n",
    "model.add(Activation('softmax'))"
   ]
  },
  {
   "cell_type": "markdown",
   "metadata": {
    "id": "H_9ZHdP4Vw7M"
   },
   "source": [
    "We need to see what are the trainable and non-trainable parameters in the summary:"
   ]
  },
  {
   "cell_type": "code",
   "execution_count": 16,
   "metadata": {
    "colab": {
     "base_uri": "https://localhost:8080/"
    },
    "id": "fyZvcjVYU2LR",
    "outputId": "01018c63-736e-45df-8d1b-8de4210b9617"
   },
   "outputs": [
    {
     "name": "stdout",
     "output_type": "stream",
     "text": [
      "Model: \"sequential\"\n",
      "_________________________________________________________________\n",
      " Layer (type)                Output Shape              Param #   \n",
      "=================================================================\n",
      " dense (Dense)               (None, 512)               401920    \n",
      "                                                                 \n",
      " activation (Activation)     (None, 512)               0         \n",
      "                                                                 \n",
      " dense_1 (Dense)             (None, 512)               262656    \n",
      "                                                                 \n",
      " activation_1 (Activation)   (None, 512)               0         \n",
      "                                                                 \n",
      " dropout (Dropout)           (None, 512)               0         \n",
      "                                                                 \n",
      " dropout_1 (Dropout)         (None, 512)               0         \n",
      "                                                                 \n",
      " dense_2 (Dense)             (None, 10)                5130      \n",
      "                                                                 \n",
      " activation_2 (Activation)   (None, 10)                0         \n",
      "                                                                 \n",
      "=================================================================\n",
      "Total params: 669,706\n",
      "Trainable params: 669,706\n",
      "Non-trainable params: 0\n",
      "_________________________________________________________________\n"
     ]
    }
   ],
   "source": [
    "#Summarize the built model\n",
    "\n",
    "model.summary()"
   ]
  },
  {
   "cell_type": "markdown",
   "metadata": {
    "id": "VyZ9TGHjbdqU"
   },
   "source": [
    "Compiling the model"
   ]
  },
  {
   "cell_type": "code",
   "execution_count": 17,
   "metadata": {
    "id": "REiFNdhtVhds"
   },
   "outputs": [],
   "source": [
    "# let's use the Adam optimizer for learning \n",
    "model.compile(loss='categorical_crossentropy',\n",
    "              optimizer='adam', metrics=['accuracy'])"
   ]
  },
  {
   "cell_type": "code",
   "execution_count": 18,
   "metadata": {
    "colab": {
     "base_uri": "https://localhost:8080/"
    },
    "id": "yrHVv1l6Y0sJ",
    "outputId": "3ef72bd0-08c1-43f0-d7c3-c7ff5e6de4a0"
   },
   "outputs": [
    {
     "name": "stdout",
     "output_type": "stream",
     "text": [
      "Epoch 1/10\n",
      "469/469 [==============================] - 4s 3ms/step - loss: 0.2406 - accuracy: 0.9290\n",
      "Epoch 2/10\n",
      "469/469 [==============================] - 1s 3ms/step - loss: 0.0894 - accuracy: 0.9728\n",
      "Epoch 3/10\n",
      "469/469 [==============================] - 1s 3ms/step - loss: 0.0569 - accuracy: 0.9820\n",
      "Epoch 4/10\n",
      "469/469 [==============================] - 1s 3ms/step - loss: 0.0433 - accuracy: 0.9869\n",
      "Epoch 5/10\n",
      "469/469 [==============================] - 1s 3ms/step - loss: 0.0320 - accuracy: 0.9899\n",
      "Epoch 6/10\n",
      "469/469 [==============================] - 1s 3ms/step - loss: 0.0278 - accuracy: 0.9908\n",
      "Epoch 7/10\n",
      "469/469 [==============================] - 1s 3ms/step - loss: 0.0203 - accuracy: 0.9930\n",
      "Epoch 8/10\n",
      "469/469 [==============================] - 1s 3ms/step - loss: 0.0209 - accuracy: 0.9927\n",
      "Epoch 9/10\n",
      "469/469 [==============================] - 2s 3ms/step - loss: 0.0184 - accuracy: 0.9939\n",
      "Epoch 10/10\n",
      "469/469 [==============================] - 1s 3ms/step - loss: 0.0145 - accuracy: 0.9951\n"
     ]
    },
    {
     "data": {
      "text/plain": [
       "<keras.callbacks.History at 0x7f656254a490>"
      ]
     },
     "execution_count": 18,
     "metadata": {},
     "output_type": "execute_result"
    }
   ],
   "source": [
    "#fit the model\n",
    "model.fit(X_train, Y_train,\n",
    "\n",
    "          batch_size =128, epochs =10,\n",
    "\n",
    "          verbose=1)\n",
    "\n"
   ]
  },
  {
   "cell_type": "markdown",
   "metadata": {
    "id": "dpldp78M6aGO"
   },
   "source": [
    "Evaluate the Model's Accuracy on Test Data"
   ]
  },
  {
   "cell_type": "code",
   "execution_count": 19,
   "metadata": {
    "colab": {
     "base_uri": "https://localhost:8080/"
    },
    "id": "C--cQnB7Zczi",
    "outputId": "d2fe71e8-2a6f-494f-c6b3-823728c14e2f"
   },
   "outputs": [
    {
     "name": "stdout",
     "output_type": "stream",
     "text": [
      "313/313 [==============================] - 1s 2ms/step - loss: 0.0776 - accuracy: 0.9809\n",
      "Test score: 0.07759664207696915\n",
      "Test score: 0.98089998960495\n"
     ]
    }
   ],
   "source": [
    "score= model.evaluate(X_test, Y_test)\n",
    "print('Test score:', score[0])\n",
    "print('Test score:', score[1])"
   ]
  },
  {
   "cell_type": "code",
   "execution_count": 20,
   "metadata": {
    "colab": {
     "base_uri": "https://localhost:8080/"
    },
    "id": "TyZghjy06uUB",
    "outputId": "a391e43c-2e3f-4cd4-ae85-c2d7ac9ef4d3"
   },
   "outputs": [
    {
     "name": "stdout",
     "output_type": "stream",
     "text": [
      "313/313 [==============================] - 1s 2ms/step\n"
     ]
    }
   ],
   "source": [
    "# The predict_classes function outputs the highest probability class\n",
    "# according to the trained classifier for each input example\n",
    "predicted_x = model.predict(X_test)\n",
    "predicted_classes=np.argmax(predicted_x,axis=1)\n",
    "# Check which items we got right/wrong\n",
    "corret_indices = np.nonzero(predicted_classes == y_test)[0]\n",
    "\n",
    "incorrect_indices = np.nonzero(predicted_classes != y_test)[0]"
   ]
  },
  {
   "cell_type": "code",
   "execution_count": 21,
   "metadata": {
    "colab": {
     "base_uri": "https://localhost:8080/",
     "height": 1000
    },
    "id": "shQtaJXSregm",
    "outputId": "956dbcd7-3d8a-474e-df4c-d13ecdcc7d23"
   },
   "outputs": [
    {
     "data": {
      "image/png": "[encoded data removed]",
      "text/plain": [
       "<Figure size 648x648 with 9 Axes>"
      ]
     },
     "metadata": {
      "needs_background": "light"
     },
     "output_type": "display_data"
    },
    {
     "data": {
      "image/png": "[encoded data removed]",
      "text/plain": [
       "<Figure size 648x648 with 9 Axes>"
      ]
     },
     "metadata": {
      "needs_background": "light"
     },
     "output_type": "display_data"
    }
   ],
   "source": [
    "plt.figure()\n",
    "\n",
    "for i, correct in enumerate(corret_indices[:9]):\n",
    "\n",
    "    plt.subplot(3,3,i+1)\n",
    "\n",
    "    plt.imshow(X_test[correct].reshape(28,28), cmap='gray', interpolation='none')\n",
    "\n",
    "    plt.title(\"Predicted {}, Class {}\".format(predicted_classes[correct], y_test[correct]))\n",
    "\n",
    "    \n",
    "\n",
    "plt.tight_layout()\n",
    "\n",
    "    \n",
    "\n",
    "plt.figure()\n",
    "\n",
    "for i, incorrect in enumerate(incorrect_indices[:9]):\n",
    "\n",
    "    plt.subplot(3,3,i+1)\n",
    "\n",
    "    plt.imshow(X_test[incorrect].reshape(28,28), cmap='gray', interpolation='none')\n",
    "\n",
    "    plt.title(\"Predicted {}, Class {}\".format(predicted_classes[incorrect], y_test[incorrect]))\n",
    "\n",
    "    \n",
    "\n",
    "plt.tight_layout()"
   ]
  }
 ],
 "metadata": {
  "accelerator": "GPU",
  "colab": {
   "collapsed_sections": [],
   "provenance": []
  },
  "gpuClass": "standard",
  "kernelspec": {
   "display_name": "Python 3 (ipykernel)",
   "language": "python",
   "name": "python3"
  },
  "language_info": {
   "codemirror_mode": {
    "name": "ipython",
    "version": 3
   },
   "file_extension": ".py",
   "mimetype": "text/x-python",
   "name": "python",
   "nbconvert_exporter": "python",
   "pygments_lexer": "ipython3",
   "version": "3.9.12"
  }
 },
 "nbformat": 4,
 "nbformat_minor": 1
}
